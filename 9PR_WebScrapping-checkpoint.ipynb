{
 "cells": [
  {
   "cell_type": "code",
   "execution_count": 1,
   "id": "13662335",
   "metadata": {},
   "outputs": [],
   "source": [
    "import requests\n",
    "import bs4"
   ]
  },
  {
   "cell_type": "code",
   "execution_count": null,
   "id": "816d9a50",
   "metadata": {},
   "outputs": [],
   "source": [
    "request1=requests.get('https://www.flipkart.com/poco-c31-royal-blue-64-gb/p/itm19effae969b86')\n",
    "request1"
   ]
  },
  {
   "cell_type": "code",
   "execution_count": null,
   "id": "6773652f",
   "metadata": {},
   "outputs": [],
   "source": [
    "request1.content"
   ]
  },
  {
   "cell_type": "code",
   "execution_count": null,
   "id": "bcbb85b0",
   "metadata": {},
   "outputs": [],
   "source": [
    "soup=bs4.BeautifulSoup(request1.text)\n",
    "soup"
   ]
  },
  {
   "cell_type": "code",
   "execution_count": null,
   "id": "1a71a030",
   "metadata": {},
   "outputs": [],
   "source": [
    "reviews=soup.findAll('div',{'class':'ZmyHeo'});\n",
    "for review in reviews:\n",
    "    print(review.get_text()+\"\\n\")"
   ]
  },
  {
   "cell_type": "code",
   "execution_count": null,
   "id": "cff65654",
   "metadata": {},
   "outputs": [],
   "source": [
    "ratings=soup.find('div',{'class':'ipqd2A'}).get_text();\n",
    "print(ratings)"
   ]
  },
  {
   "cell_type": "code",
   "execution_count": null,
   "id": "a6fd393b",
   "metadata": {},
   "outputs": [],
   "source": [
    "individual_ratings=soup.find_all('div',{'class':'XQDdHH Ga3i8K'});\n",
    "for indi_rating in individual_ratings:\n",
    "    print(indi_rating.get_text()+\"\\n\")"
   ]
  },
  {
   "cell_type": "code",
   "execution_count": null,
   "id": "282d44a1",
   "metadata": {},
   "outputs": [],
   "source": [
    "tags=soup.find('span',{'class':'_6EBuvT OHdLLG'}).get_text()\n",
    "tags"
   ]
  },
  {
   "cell_type": "code",
   "execution_count": null,
   "id": "141ae6d5",
   "metadata": {},
   "outputs": [],
   "source": [
    "customer_name=soup.find_all('p',{'class':'_2NsDsF AwS1CA'});\n",
    "for cust_name in customer_name:\n",
    "    print(cust_name.get_text()+\"\\n\")"
   ]
  },
  {
   "cell_type": "code",
   "execution_count": null,
   "id": "b6f06e9f",
   "metadata": {},
   "outputs": [],
   "source": []
  },
  {
   "cell_type": "code",
   "execution_count": null,
   "id": "ed05d360",
   "metadata": {},
   "outputs": [],
   "source": []
  }
 ],
 "metadata": {
  "kernelspec": {
   "display_name": "Python 3",
   "language": "python",
   "name": "python3"
  },
  "language_info": {
   "codemirror_mode": {
    "name": "ipython",
    "version": 3
   },
   "file_extension": ".py",
   "mimetype": "text/x-python",
   "name": "python",
   "nbconvert_exporter": "python",
   "pygments_lexer": "ipython3",
   "version": "3.8.8"
  }
 },
 "nbformat": 4,
 "nbformat_minor": 5
}
