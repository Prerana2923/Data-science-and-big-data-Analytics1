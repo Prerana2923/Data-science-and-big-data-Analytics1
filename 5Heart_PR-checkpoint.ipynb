{
 "cells": [
  {
   "cell_type": "code",
   "execution_count": 3,
   "id": "f031daf5",
   "metadata": {},
   "outputs": [],
   "source": [
    "import numpy as np\n",
    "import pandas as pd\n",
    "\n",
    "import matplotlib.pyplot as plt\n",
    "import seaborn as sns\n",
    "\n",
    "from sklearn.model_selection import train_test_split\n",
    "from sklearn.preprocessing import MinMaxScaler,StandardScaler\n",
    "\n",
    "from sklearn.linear_model import LogisticRegression\n",
    "from sklearn.metrics import confusion_matrix, accuracy_score, classification_report\n",
    "\n",
    "%matplotlib inline"
   ]
  },
  {
   "cell_type": "code",
   "execution_count": null,
   "id": "7a7c9454",
   "metadata": {},
   "outputs": [],
   "source": [
    "df = pd.read_csv('heart.csv')\n",
    "df"
   ]
  },
  {
   "cell_type": "code",
   "execution_count": null,
   "id": "7f4d89bf",
   "metadata": {},
   "outputs": [],
   "source": [
    "df.info()"
   ]
  },
  {
   "cell_type": "code",
   "execution_count": null,
   "id": "e2332cd9",
   "metadata": {},
   "outputs": [],
   "source": [
    "df.describe()"
   ]
  },
  {
   "cell_type": "code",
   "execution_count": null,
   "id": "4dbc502b",
   "metadata": {},
   "outputs": [],
   "source": [
    "df.shape"
   ]
  },
  {
   "cell_type": "code",
   "execution_count": null,
   "id": "72204f7c",
   "metadata": {},
   "outputs": [],
   "source": [
    "df.dtypes"
   ]
  },
  {
   "cell_type": "code",
   "execution_count": null,
   "id": "d834b42b",
   "metadata": {},
   "outputs": [],
   "source": [
    "df['sex'] = df['sex'].astype('object')\n",
    "df['cp'] = df['cp'].astype('object')\n",
    "df['fbs'] = df['fbs'].astype('object') \n",
    "df['restecg'] = df['restecg'].astype('object') \n",
    "df['exang'] = df['exang'].astype('object')\n",
    "df['slope'] = df['slope'].astype('object')\n",
    "df['ca'] = df['ca'].astype('object')\n",
    "df['thal'] = df['thal'].astype('object') \n",
    "df.dtypes"
   ]
  },
  {
   "cell_type": "code",
   "execution_count": null,
   "id": "f08639b2",
   "metadata": {},
   "outputs": [],
   "source": [
    "df['target'] = df.target.replace({1: \"Disease\", 0: \"No_disease\"}) \n",
    "df['sex'] = df.sex.replace({1: \"Male\", 0: \"Female\"})\n",
    "df['cp'] = df.cp.replace({0: \"typical_angina\",1: \"atypical_angina\", \n",
    "                          2:\"non-anginal pain\", 3: \"asymtomatic\"})\n",
    "df['exang'] = df.exang.replace({1: \"Yes\", 0: \"No\"})\n",
    "df['fbs'] = df.fbs.replace({1: \"True\", 0: \"False\"}) \n",
    "df['slope'] = df.slope.replace({0: \"upsloping\", 1: \"flat\",\n",
    "                                2:\"downsloping\"})\n",
    "df['thal'] = df.thal.replace({1: \"fixed_defect\", 2: \"reversable_defect\",\n",
    "                              3:\"normal\"})\n",
    "\n"
   ]
  },
  {
   "cell_type": "code",
   "execution_count": null,
   "id": "e870e3f9",
   "metadata": {},
   "outputs": [],
   "source": [
    "df.describe()"
   ]
  },
  {
   "cell_type": "code",
   "execution_count": null,
   "id": "ea4f55fb",
   "metadata": {},
   "outputs": [],
   "source": [
    "sns.boxplot(x='target', y='oldpeak', data=df)"
   ]
  },
  {
   "cell_type": "code",
   "execution_count": null,
   "id": "b62ed023",
   "metadata": {},
   "outputs": [],
   "source": [
    "continous_features = ['age','trestbps','chol','thalach','oldpeak'] \n",
    "def outliers(df_out, drop = False):\n",
    "    for each_feature in df_out.columns: \n",
    "        feature_data = df_out[each_feature]\n",
    "        Q1 = np.percentile(feature_data, 25.) \n",
    "        Q3 = np.percentile(feature_data, 75.) \n",
    "        IQR = Q3-Q1 \n",
    "        outlier_step = IQR * 1.5 \n",
    " \n",
    "        outliers=feature_data[~((feature_data >= Q1 - outlier_step)\n",
    "                        &(feature_data<=Q3+outlier_step))].index.tolist()\n",
    "        if not drop:\n",
    "            print('For the feature {}, No of Outliers is{}'.format(each_feature,\n",
    "                                                                   len(outliers))) \n",
    "        if drop:\n",
    "            df.drop(outliers, inplace = True, errors = 'ignore') \n",
    "            print('Outliers from {} feature removed'.format(each_feature))\n",
    "\n",
    "outliers(df[continous_features])\n"
   ]
  },
  {
   "cell_type": "code",
   "execution_count": null,
   "id": "34661a2f",
   "metadata": {},
   "outputs": [],
   "source": [
    "outliers(df[continous_features],drop=True) "
   ]
  },
  {
   "cell_type": "code",
   "execution_count": null,
   "id": "8c0e2553",
   "metadata": {},
   "outputs": [],
   "source": [
    "duplicated=df.duplicated().sum()\n",
    "if duplicated:\n",
    "    print(\"Duplicated rows :{}\".format(duplicated)) \n",
    "else:\n",
    "    print(\"No duplicates\")\n"
   ]
  },
  {
   "cell_type": "code",
   "execution_count": null,
   "id": "152946e4",
   "metadata": {},
   "outputs": [],
   "source": [
    "duplicates=df[df.duplicated(keep=False)] \n",
    "duplicates.head()"
   ]
  },
  {
   "cell_type": "code",
   "execution_count": null,
   "id": "561cad53",
   "metadata": {},
   "outputs": [],
   "source": [
    "df.drop_duplicates()"
   ]
  },
  {
   "cell_type": "code",
   "execution_count": null,
   "id": "410fa22a",
   "metadata": {},
   "outputs": [],
   "source": [
    "df['ca'].unique()"
   ]
  },
  {
   "cell_type": "code",
   "execution_count": null,
   "id": "95204db6",
   "metadata": {},
   "outputs": [],
   "source": [
    "df['thal'].unique()"
   ]
  },
  {
   "cell_type": "code",
   "execution_count": null,
   "id": "dd980f9d",
   "metadata": {},
   "outputs": [],
   "source": [
    "df['thal'].replace({\"fixed_defect\":1, \"reversable_defect\":2, \"normal\":3},\n",
    "                   inplace= True)"
   ]
  },
  {
   "cell_type": "code",
   "execution_count": null,
   "id": "0a6b3bc1",
   "metadata": {},
   "outputs": [],
   "source": [
    "df[df['ca']==4]"
   ]
  },
  {
   "cell_type": "code",
   "execution_count": null,
   "id": "1809f4e7",
   "metadata": {},
   "outputs": [],
   "source": [
    "df.loc[df['ca']==4,'ca']=np.NaN\n",
    "df.loc[df['thal']==0,'thal']=np.NaN"
   ]
  },
  {
   "cell_type": "code",
   "execution_count": null,
   "id": "95455e6f",
   "metadata": {},
   "outputs": [],
   "source": [
    "df.isna().sum()"
   ]
  },
  {
   "cell_type": "code",
   "execution_count": null,
   "id": "ff8d5b98",
   "metadata": {},
   "outputs": [],
   "source": [
    "df = df.fillna(df.median()) \n",
    "df.isnull().sum()"
   ]
  },
  {
   "cell_type": "code",
   "execution_count": null,
   "id": "00c31a98",
   "metadata": {},
   "outputs": [],
   "source": [
    "df.info()"
   ]
  },
  {
   "cell_type": "code",
   "execution_count": null,
   "id": "cd786ea6",
   "metadata": {},
   "outputs": [],
   "source": [
    "df['target'] = df.target.replace({\"Disease\":1,\"No_disease\":0}) \n",
    "df['sex'] = df.sex.replace({\"Male\":1,\"Female\":0})\n",
    "df['cp'] = df.cp.replace({\"typical_angina\":0,\"atypical_angina\":1,\n",
    "                          \"non-anginal pain\":2, \"asymtomatic\":3})\n",
    "\n",
    "df['exang'] = df.exang.replace({\"Yes\":1,\"No\":0})\n",
    "df['fbs'] = df.fbs.replace({\"True\":1,\"False\":0}) \n",
    "df['slope'] = df.slope.replace({\"upsloping\":0,\"flat\":1,\"downsloping\":2})\n",
    "df['thal'] = df.thal.replace({\"fixed_defect\":1, \"reversable_defect\":2, \n",
    "                              \"normal\":3})"
   ]
  },
  {
   "cell_type": "code",
   "execution_count": null,
   "id": "c42df3d4",
   "metadata": {},
   "outputs": [],
   "source": [
    "df.info()"
   ]
  },
  {
   "cell_type": "code",
   "execution_count": null,
   "id": "1bb71a8d",
   "metadata": {},
   "outputs": [],
   "source": [
    "df['target'].value_counts()"
   ]
  },
  {
   "cell_type": "code",
   "execution_count": null,
   "id": "2bb0d3d3",
   "metadata": {},
   "outputs": [],
   "source": [
    "df.head()"
   ]
  },
  {
   "cell_type": "code",
   "execution_count": null,
   "id": "c60cd829",
   "metadata": {},
   "outputs": [],
   "source": [
    "x = df.drop('target',axis = 1)\n",
    "y = df['target']"
   ]
  },
  {
   "cell_type": "code",
   "execution_count": null,
   "id": "6a2a5d48",
   "metadata": {},
   "outputs": [],
   "source": [
    "normal_scaler = MinMaxScaler(feature_range = (0,1))\n",
    "x_scaled = normal_scaler.fit_transform(x)\n",
    "x_scaled_df = pd.DataFrame(x_scaled, columns = x.columns)\n",
    "x_scaled_df"
   ]
  },
  {
   "cell_type": "code",
   "execution_count": null,
   "id": "d7334491",
   "metadata": {},
   "outputs": [],
   "source": [
    "x_train, x_test, y_train, y_test = train_test_split(x_scaled_df,y,\n",
    "                    test_size = 0.2,random_state = 1,stratify = y)"
   ]
  },
  {
   "cell_type": "code",
   "execution_count": null,
   "id": "f45d86d1",
   "metadata": {},
   "outputs": [],
   "source": [
    "log_reg = LogisticRegression()"
   ]
  },
  {
   "cell_type": "code",
   "execution_count": null,
   "id": "e07a354c",
   "metadata": {},
   "outputs": [],
   "source": [
    "log_reg.fit(x_train, y_train)"
   ]
  },
  {
   "cell_type": "code",
   "execution_count": null,
   "id": "f0e28b6e",
   "metadata": {},
   "outputs": [],
   "source": [
    "# prediction\n",
    "y_pred = log_reg.predict(x_test)"
   ]
  },
  {
   "cell_type": "code",
   "execution_count": null,
   "id": "9639e7c1",
   "metadata": {},
   "outputs": [],
   "source": [
    "y_pred[0:5]"
   ]
  },
  {
   "cell_type": "code",
   "execution_count": null,
   "id": "4aa32dee",
   "metadata": {},
   "outputs": [],
   "source": [
    "y_test[0:5]"
   ]
  },
  {
   "cell_type": "code",
   "execution_count": null,
   "id": "7a724c10",
   "metadata": {},
   "outputs": [],
   "source": [
    "accuracy_score(y_test,y_pred)"
   ]
  },
  {
   "cell_type": "code",
   "execution_count": null,
   "id": "bfff9b82",
   "metadata": {},
   "outputs": [],
   "source": [
    "confusion_matrix(y_test,y_pred)"
   ]
  },
  {
   "cell_type": "code",
   "execution_count": null,
   "id": "0a563ab4",
   "metadata": {},
   "outputs": [],
   "source": [
    "clf_report = classification_report(y_test,y_pred)\n",
    "print(clf_report)"
   ]
  }
 ],
 "metadata": {
  "kernelspec": {
   "display_name": "Python 3",
   "language": "python",
   "name": "python3"
  },
  "language_info": {
   "codemirror_mode": {
    "name": "ipython",
    "version": 3
   },
   "file_extension": ".py",
   "mimetype": "text/x-python",
   "name": "python",
   "nbconvert_exporter": "python",
   "pygments_lexer": "ipython3",
   "version": "3.8.8"
  }
 },
 "nbformat": 4,
 "nbformat_minor": 5
}
