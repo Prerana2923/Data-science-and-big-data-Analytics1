{
 "cells": [
  {
   "cell_type": "code",
   "execution_count": null,
   "id": "24df1ec5",
   "metadata": {},
   "outputs": [],
   "source": [
    "import numpy as np\n",
    "import pandas as pd\n",
    "import matplotlib.pyplot as plt\n",
    "import seaborn as sns\n",
    "import warnings\n",
    "warnings.filterwarnings('ignore')\n"
   ]
  },
  {
   "cell_type": "code",
   "execution_count": null,
   "id": "3969659e",
   "metadata": {},
   "outputs": [],
   "source": [
    "aq_df=pd.read_csv('air_quality.csv') \n",
    "aq_df.head()\n"
   ]
  },
  {
   "cell_type": "code",
   "execution_count": null,
   "id": "a6871247",
   "metadata": {},
   "outputs": [],
   "source": [
    "ff_df=pd.read_csv('forestfires.csv')\n",
    "ff_df.head()"
   ]
  },
  {
   "cell_type": "code",
   "execution_count": null,
   "id": "7715cd08",
   "metadata": {},
   "outputs": [],
   "source": [
    "ht_df=pd.read_csv('heart.csv')\n",
    "ht_df.head()"
   ]
  },
  {
   "cell_type": "code",
   "execution_count": null,
   "id": "9188f1f6",
   "metadata": {},
   "outputs": [],
   "source": [
    "x=[1,2,3,4,5,6]\n",
    "y=[1,8,27,64,125,216]\n",
    "plt.plot(x,y)\n",
    "plt.show()"
   ]
  },
  {
   "cell_type": "code",
   "execution_count": null,
   "id": "5480c86a",
   "metadata": {},
   "outputs": [],
   "source": [
    "data = {'C':20, 'C++':15, 'Java':30, 'Python':35}\n",
    "courses = list(data.keys())\n",
    "values = list(data.values())\n",
    "fig=plt.figure(figsize = (10, 5))\n",
    "plt.bar(courses, values, color = 'maroon')\n",
    "plt.xlabel(\"Courses offered\")\n",
    "plt.ylabel(\"No. of students enrolled\")\n",
    "plt.title(\"Students enrolled in different courses\")\n",
    "plt.show()"
   ]
  },
  {
   "cell_type": "code",
   "execution_count": null,
   "id": "bc349ac8",
   "metadata": {},
   "outputs": [],
   "source": [
    "ht_df['target'].value_counts()"
   ]
  },
  {
   "cell_type": "code",
   "execution_count": null,
   "id": "207ebeff",
   "metadata": {},
   "outputs": [],
   "source": [
    "plt.figure(figsize=(8,5))\n",
    "sns.countplot(data=ht_df,x=ht_df['target'], hue=ht_df['target'])"
   ]
  },
  {
   "cell_type": "code",
   "execution_count": null,
   "id": "b33e71c0",
   "metadata": {},
   "outputs": [],
   "source": [
    "sns.boxplot(data=ht_df['chol'])"
   ]
  },
  {
   "cell_type": "code",
   "execution_count": null,
   "id": "76adcf83",
   "metadata": {},
   "outputs": [],
   "source": [
    "ht_df['trestbps'].hist(bins = 20)"
   ]
  },
  {
   "cell_type": "code",
   "execution_count": null,
   "id": "4323ad4b",
   "metadata": {},
   "outputs": [],
   "source": [
    "sns.displot(ff_df['FFMC'], kde = True)"
   ]
  },
  {
   "cell_type": "code",
   "execution_count": null,
   "id": "857c4c60",
   "metadata": {},
   "outputs": [],
   "source": [
    "ff_df['DMC'].hist(bins = 20)"
   ]
  },
  {
   "cell_type": "code",
   "execution_count": null,
   "id": "a2bbf4b4",
   "metadata": {},
   "outputs": [],
   "source": [
    "sns.heatmap(aq_df.corr())"
   ]
  },
  {
   "cell_type": "code",
   "execution_count": null,
   "id": "f88025fc",
   "metadata": {},
   "outputs": [],
   "source": [
    "sns.heatmap(ff_df.corr())"
   ]
  },
  {
   "cell_type": "code",
   "execution_count": null,
   "id": "e342187c",
   "metadata": {},
   "outputs": [],
   "source": [
    "sns.scatterplot(x=aq_df['so2'], y=aq_df['no2'], data=aq_df)"
   ]
  },
  {
   "cell_type": "code",
   "execution_count": null,
   "id": "220d1f34",
   "metadata": {},
   "outputs": [],
   "source": [
    "sns.pairplot(ff_df,hue='day') \n",
    "plt.show()"
   ]
  },
  {
   "cell_type": "code",
   "execution_count": null,
   "id": "adbcb354",
   "metadata": {},
   "outputs": [],
   "source": [
    "y= np.array([350, 255, 240, 150])\n",
    "mylabels=[\"Apples\", \"Bananas\", \"Cherries\",\"Dates\"]\n",
    "plt.pie(y, labels=mylabels, autopct='%1.2f%%')\n",
    "plt.legend(title=\"Four Fruits:\")\n",
    "plt.show()"
   ]
  }
 ],
 "metadata": {
  "kernelspec": {
   "display_name": "Python 3",
   "language": "python",
   "name": "python3"
  },
  "language_info": {
   "codemirror_mode": {
    "name": "ipython",
    "version": 3
   },
   "file_extension": ".py",
   "mimetype": "text/x-python",
   "name": "python",
   "nbconvert_exporter": "python",
   "pygments_lexer": "ipython3",
   "version": "3.8.8"
  }
 },
 "nbformat": 4,
 "nbformat_minor": 5
}
