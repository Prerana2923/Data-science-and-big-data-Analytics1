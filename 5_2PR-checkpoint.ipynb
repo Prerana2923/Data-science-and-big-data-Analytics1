{
 "cells": [
  {
   "cell_type": "code",
   "execution_count": null,
   "id": "f0147fc1",
   "metadata": {},
   "outputs": [],
   "source": [
    "#import libraries\n",
    "import numpy as np\n",
    "import pandas as pd\n",
    "\n",
    "import matplotlib.pyplot as plt\n",
    "import seaborn as sns\n",
    "\n",
    "from sklearn.model_selection import train_test_split\n",
    "from sklearn.preprocessing import MinMaxScaler,StandardScaler\n",
    "\n",
    "from sklearn.linear_model import LinearRegression\n",
    "from sklearn.metrics import r2_score, mean_squared_error, mean_absolute_error\n",
    "%matplotlib inline"
   ]
  },
  {
   "cell_type": "code",
   "execution_count": null,
   "id": "2a44e652",
   "metadata": {},
   "outputs": [],
   "source": [
    "# Read datasets\n",
    "df = pd.read_csv('air_quality.csv')\n",
    "df.head()"
   ]
  },
  {
   "cell_type": "code",
   "execution_count": null,
   "id": "ee986e7a",
   "metadata": {},
   "outputs": [],
   "source": [
    "df.info()"
   ]
  },
  {
   "cell_type": "code",
   "execution_count": null,
   "id": "51bb1724",
   "metadata": {},
   "outputs": [],
   "source": [
    "df.shape"
   ]
  },
  {
   "cell_type": "code",
   "execution_count": null,
   "id": "3088ed4e",
   "metadata": {},
   "outputs": [],
   "source": [
    "df.isna().sum()"
   ]
  },
  {
   "cell_type": "code",
   "execution_count": null,
   "id": "e7faa81a",
   "metadata": {},
   "outputs": [],
   "source": [
    "df=df.drop(['stn_code', 'agency','sampling_date','location_monitoring_station'],axis=1) \n",
    "df.head(2)"
   ]
  },
  {
   "cell_type": "code",
   "execution_count": null,
   "id": "76bdb11e",
   "metadata": {},
   "outputs": [],
   "source": [
    "df=df.dropna(subset=['date'])\n",
    "df.shape"
   ]
  },
  {
   "cell_type": "code",
   "execution_count": null,
   "id": "c5849372",
   "metadata": {},
   "outputs": [],
   "source": [
    "COLS = ['so2', 'no2', 'rspm', 'spm', 'pm2_5']\n",
    "from sklearn.impute import SimpleImputer\n",
    "imputer = SimpleImputer(missing_values=np.nan, strategy='mean') \n",
    "df[COLS] = imputer.fit_transform(df[COLS])\n",
    "df.isna().sum()"
   ]
  },
  {
   "cell_type": "code",
   "execution_count": null,
   "id": "19363ca7",
   "metadata": {},
   "outputs": [],
   "source": [
    "df['type'].value_counts()"
   ]
  },
  {
   "cell_type": "code",
   "execution_count": null,
   "id": "0592353b",
   "metadata": {},
   "outputs": [],
   "source": [
    "df['type'].replace({\"Residential, Rural and other Areas\":\"RRO\", \"Industrial Area\":\"I\", \n",
    "                    \"Industrial Areas\":\"I\",\"Industrial\":\"I\", \"Residential and others\":\"RO\",\n",
    "                    \"Sensitive Area\":\"S\",\"Sensitive Areas\":\"S\",\"Sensitive\":\"S\",\"RIRUO\":\"RIRUO\",\n",
    "                    \"Residential\":\"R\"},inplace= True) \n",
    "df['type'].value_counts()"
   ]
  },
  {
   "cell_type": "code",
   "execution_count": null,
   "id": "276a168e",
   "metadata": {},
   "outputs": [],
   "source": [
    "df['type'].replace({\"RRO\":1, \"I\":2, \"RO\":3,\"S\":4,\"RIRUO\":5,\"R\":6},inplace= True) \n",
    "df['type']"
   ]
  },
  {
   "cell_type": "code",
   "execution_count": null,
   "id": "b71f46e8",
   "metadata": {},
   "outputs": [],
   "source": [
    "df['state'].value_counts()"
   ]
  },
  {
   "cell_type": "code",
   "execution_count": null,
   "id": "4bcced02",
   "metadata": {},
   "outputs": [],
   "source": [
    "from sklearn.preprocessing import LabelEncoder \n",
    "labelencoder=LabelEncoder() \n",
    "df[\"state\"]=labelencoder.fit_transform(df[\"state\"]) \n",
    "df.head(5)"
   ]
  },
  {
   "cell_type": "code",
   "execution_count": null,
   "id": "e5287fd0",
   "metadata": {},
   "outputs": [],
   "source": [
    "dfAndhra=df[(df['state']==0)] \n",
    "dfAndhra"
   ]
  },
  {
   "cell_type": "code",
   "execution_count": null,
   "id": "3653dfb8",
   "metadata": {},
   "outputs": [],
   "source": [
    "dfAndhra['location'].value_counts()"
   ]
  },
  {
   "cell_type": "code",
   "execution_count": null,
   "id": "cde53c42",
   "metadata": {},
   "outputs": [],
   "source": [
    "from sklearn.preprocessing import OneHotEncoder \n",
    "onehotencoder=OneHotEncoder(sparse=False,handle_unknown='error',drop='first')\n",
    "pd.DataFrame(onehotencoder.fit_transform(dfAndhra[[\"location\"]]))\n"
   ]
  },
  {
   "cell_type": "code",
   "execution_count": null,
   "id": "32390100",
   "metadata": {},
   "outputs": [],
   "source": [
    "df['location'].value_counts()"
   ]
  },
  {
   "cell_type": "code",
   "execution_count": null,
   "id": "020a8eb6",
   "metadata": {},
   "outputs": [],
   "source": [
    "df.info()"
   ]
  },
  {
   "cell_type": "code",
   "execution_count": null,
   "id": "a520d531",
   "metadata": {},
   "outputs": [],
   "source": [
    "df.head()"
   ]
  },
  {
   "cell_type": "code",
   "execution_count": null,
   "id": "46491c8c",
   "metadata": {},
   "outputs": [],
   "source": [
    "df['date'].value_counts()"
   ]
  },
  {
   "cell_type": "code",
   "execution_count": null,
   "id": "db1f498c",
   "metadata": {},
   "outputs": [],
   "source": [
    "df['date'].nunique()"
   ]
  },
  {
   "cell_type": "code",
   "execution_count": null,
   "id": "1750a546",
   "metadata": {},
   "outputs": [],
   "source": [
    "df['year'] = pd.to_datetime(df['date'], format='%Y-%m-%d').dt.year\n",
    "df['month'] = pd.to_datetime(df['date'], format='%Y-%m-%d').dt.month\n",
    "df['day'] = pd.to_datetime(df['date'], format='%Y-%m-%d').dt.day\n",
    "df.head()"
   ]
  },
  {
   "cell_type": "code",
   "execution_count": null,
   "id": "742826e6",
   "metadata": {},
   "outputs": [],
   "source": [
    "df['year'].value_counts()"
   ]
  },
  {
   "cell_type": "code",
   "execution_count": null,
   "id": "914141f0",
   "metadata": {},
   "outputs": [],
   "source": [
    "df.drop(['date'],axis=1,inplace=True)\n",
    "df.info()"
   ]
  },
  {
   "cell_type": "code",
   "execution_count": null,
   "id": "01da2096",
   "metadata": {},
   "outputs": [],
   "source": []
  },
  {
   "cell_type": "code",
   "execution_count": null,
   "id": "22911677",
   "metadata": {},
   "outputs": [],
   "source": []
  }
 ],
 "metadata": {
  "kernelspec": {
   "display_name": "Python 3",
   "language": "python",
   "name": "python3"
  },
  "language_info": {
   "codemirror_mode": {
    "name": "ipython",
    "version": 3
   },
   "file_extension": ".py",
   "mimetype": "text/x-python",
   "name": "python",
   "nbconvert_exporter": "python",
   "pygments_lexer": "ipython3",
   "version": "3.8.8"
  }
 },
 "nbformat": 4,
 "nbformat_minor": 5
}
