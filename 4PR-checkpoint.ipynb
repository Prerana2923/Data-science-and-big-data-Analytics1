{
 "cells": [
  {
   "cell_type": "code",
   "execution_count": null,
   "id": "045faaf8",
   "metadata": {},
   "outputs": [],
   "source": [
    "import numpy as np\n",
    "import pandas as pd"
   ]
  },
  {
   "cell_type": "code",
   "execution_count": null,
   "id": "51b14789",
   "metadata": {},
   "outputs": [],
   "source": [
    "df=pd.read_excel('facebook_metrics.xlsx')\n",
    "df"
   ]
  },
  {
   "cell_type": "code",
   "execution_count": null,
   "id": "029c9f8c",
   "metadata": {},
   "outputs": [],
   "source": [
    "df.shape"
   ]
  },
  {
   "cell_type": "code",
   "execution_count": null,
   "id": "71c38f03",
   "metadata": {},
   "outputs": [],
   "source": [
    "df.info()"
   ]
  },
  {
   "cell_type": "code",
   "execution_count": null,
   "id": "9903bd09",
   "metadata": {},
   "outputs": [],
   "source": [
    "df.columns"
   ]
  },
  {
   "cell_type": "code",
   "execution_count": null,
   "id": "a00e3f6b",
   "metadata": {},
   "outputs": [],
   "source": [
    "df1=df[['Page total likes', 'Type', 'Category', 'Post Month', 'Post Weekday']].loc[0:9]\n",
    "df1"
   ]
  },
  {
   "cell_type": "code",
   "execution_count": null,
   "id": "df106b02",
   "metadata": {},
   "outputs": [],
   "source": [
    "df2=df[['Page total likes', 'Type', 'Category', 'Post Month', 'Post Weekday']].loc[10:19]\n",
    "df2"
   ]
  },
  {
   "cell_type": "code",
   "execution_count": null,
   "id": "bcfeac04",
   "metadata": {},
   "outputs": [],
   "source": [
    "df3=df[['Page total likes', 'Type', 'Category', 'Post Month', 'Post Weekday']].loc[20:29]\n",
    "df3"
   ]
  },
  {
   "cell_type": "code",
   "execution_count": null,
   "id": "58e7e5f7",
   "metadata": {},
   "outputs": [],
   "source": [
    "merged_data = pd.concat([df1,df2,df3])\n",
    "merged_data"
   ]
  },
  {
   "cell_type": "code",
   "execution_count": null,
   "id": "e9e34c68",
   "metadata": {},
   "outputs": [],
   "source": [
    "sorted_data = df.sort_values('Page total likes', ascending = False)\n",
    "sorted_data"
   ]
  },
  {
   "cell_type": "code",
   "execution_count": null,
   "id": "19d55c59",
   "metadata": {},
   "outputs": [],
   "source": [
    "df.transpose()"
   ]
  },
  {
   "cell_type": "code",
   "execution_count": null,
   "id": "aaf86317",
   "metadata": {},
   "outputs": [],
   "source": [
    "shape_of_data = df.shape\n",
    "shape_of_data"
   ]
  },
  {
   "cell_type": "code",
   "execution_count": null,
   "id": "026c64a0",
   "metadata": {},
   "outputs": [],
   "source": [
    "pivot_table = pd.pivot_table(df, index=['Type', 'Category'],values='comment')\n",
    "print(pivot_table)"
   ]
  },
  {
   "cell_type": "code",
   "execution_count": null,
   "id": "92507f41",
   "metadata": {},
   "outputs": [],
   "source": [
    "reshaping_array=np.array([1,2,3,4,5,6,7,8])\n",
    "reshaping_array.reshape(4,2)"
   ]
  },
  {
   "cell_type": "code",
   "execution_count": null,
   "id": "65d8e9ad",
   "metadata": {},
   "outputs": [],
   "source": []
  }
 ],
 "metadata": {
  "kernelspec": {
   "display_name": "Python 3",
   "language": "python",
   "name": "python3"
  },
  "language_info": {
   "codemirror_mode": {
    "name": "ipython",
    "version": 3
   },
   "file_extension": ".py",
   "mimetype": "text/x-python",
   "name": "python",
   "nbconvert_exporter": "python",
   "pygments_lexer": "ipython3",
   "version": "3.8.8"
  }
 },
 "nbformat": 4,
 "nbformat_minor": 5
}
